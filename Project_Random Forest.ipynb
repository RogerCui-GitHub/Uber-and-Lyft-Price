{
 "cells": [
  {
   "cell_type": "code",
   "execution_count": 1,
   "metadata": {},
   "outputs": [],
   "source": [
    "import pandas as pd \n",
    "import numpy as np\n",
    "import matplotlib.pyplot as plt\n",
    "%matplotlib inline\n",
    "import seaborn as sns\n",
    "from sklearn.ensemble import RandomForestRegressor\n",
    "from sklearn.feature_selection import SelectFromModel"
   ]
  },
  {
   "cell_type": "code",
   "execution_count": 2,
   "metadata": {},
   "outputs": [
    {
     "data": {
      "text/html": [
       "<div>\n",
       "<style scoped>\n",
       "    .dataframe tbody tr th:only-of-type {\n",
       "        vertical-align: middle;\n",
       "    }\n",
       "\n",
       "    .dataframe tbody tr th {\n",
       "        vertical-align: top;\n",
       "    }\n",
       "\n",
       "    .dataframe thead th {\n",
       "        text-align: right;\n",
       "    }\n",
       "</style>\n",
       "<table border=\"1\" class=\"dataframe\">\n",
       "  <thead>\n",
       "    <tr style=\"text-align: right;\">\n",
       "      <th></th>\n",
       "      <th>price</th>\n",
       "      <th>distance</th>\n",
       "      <th>cab_type</th>\n",
       "      <th>destination</th>\n",
       "      <th>source</th>\n",
       "      <th>surge_multiplier</th>\n",
       "      <th>product_id</th>\n",
       "      <th>name</th>\n",
       "      <th>temp</th>\n",
       "      <th>clouds</th>\n",
       "      <th>rain</th>\n",
       "      <th>humidity</th>\n",
       "      <th>wind</th>\n",
       "      <th>day</th>\n",
       "      <th>hour</th>\n",
       "    </tr>\n",
       "  </thead>\n",
       "  <tbody>\n",
       "    <tr>\n",
       "      <td>0</td>\n",
       "      <td>5.0</td>\n",
       "      <td>0.44</td>\n",
       "      <td>Lyft</td>\n",
       "      <td>North Station</td>\n",
       "      <td>Haymarket Square</td>\n",
       "      <td>1.0</td>\n",
       "      <td>lyft_line</td>\n",
       "      <td>Shared</td>\n",
       "      <td>38.46</td>\n",
       "      <td>0.29</td>\n",
       "      <td>0.0000</td>\n",
       "      <td>0.76</td>\n",
       "      <td>7.68</td>\n",
       "      <td>6</td>\n",
       "      <td>9</td>\n",
       "    </tr>\n",
       "    <tr>\n",
       "      <td>1</td>\n",
       "      <td>11.0</td>\n",
       "      <td>0.44</td>\n",
       "      <td>Lyft</td>\n",
       "      <td>North Station</td>\n",
       "      <td>Haymarket Square</td>\n",
       "      <td>1.0</td>\n",
       "      <td>lyft_premier</td>\n",
       "      <td>Lux</td>\n",
       "      <td>44.31</td>\n",
       "      <td>1.00</td>\n",
       "      <td>0.1123</td>\n",
       "      <td>0.90</td>\n",
       "      <td>13.69</td>\n",
       "      <td>1</td>\n",
       "      <td>2</td>\n",
       "    </tr>\n",
       "    <tr>\n",
       "      <td>2</td>\n",
       "      <td>11.0</td>\n",
       "      <td>0.44</td>\n",
       "      <td>Lyft</td>\n",
       "      <td>North Station</td>\n",
       "      <td>Haymarket Square</td>\n",
       "      <td>1.0</td>\n",
       "      <td>lyft_premier</td>\n",
       "      <td>Lux</td>\n",
       "      <td>43.82</td>\n",
       "      <td>0.99</td>\n",
       "      <td>0.0997</td>\n",
       "      <td>0.89</td>\n",
       "      <td>11.57</td>\n",
       "      <td>1</td>\n",
       "      <td>2</td>\n",
       "    </tr>\n",
       "  </tbody>\n",
       "</table>\n",
       "</div>"
      ],
      "text/plain": [
       "   price  distance cab_type    destination            source  \\\n",
       "0    5.0      0.44     Lyft  North Station  Haymarket Square   \n",
       "1   11.0      0.44     Lyft  North Station  Haymarket Square   \n",
       "2   11.0      0.44     Lyft  North Station  Haymarket Square   \n",
       "\n",
       "   surge_multiplier    product_id    name   temp  clouds    rain  humidity  \\\n",
       "0               1.0     lyft_line  Shared  38.46    0.29  0.0000      0.76   \n",
       "1               1.0  lyft_premier     Lux  44.31    1.00  0.1123      0.90   \n",
       "2               1.0  lyft_premier     Lux  43.82    0.99  0.0997      0.89   \n",
       "\n",
       "    wind  day  hour  \n",
       "0   7.68    6     9  \n",
       "1  13.69    1     2  \n",
       "2  11.57    1     2  "
      ]
     },
     "execution_count": 2,
     "metadata": {},
     "output_type": "execute_result"
    }
   ],
   "source": [
    "car_rides = pd.read_csv('data.csv')\n",
    "car_rides = car_rides.drop(['Unnamed: 0'], axis = 1)\n",
    "car_rides.head(3)"
   ]
  },
  {
   "cell_type": "code",
   "execution_count": 3,
   "metadata": {},
   "outputs": [
    {
     "data": {
      "text/html": [
       "<div>\n",
       "<style scoped>\n",
       "    .dataframe tbody tr th:only-of-type {\n",
       "        vertical-align: middle;\n",
       "    }\n",
       "\n",
       "    .dataframe tbody tr th {\n",
       "        vertical-align: top;\n",
       "    }\n",
       "\n",
       "    .dataframe thead th {\n",
       "        text-align: right;\n",
       "    }\n",
       "</style>\n",
       "<table border=\"1\" class=\"dataframe\">\n",
       "  <thead>\n",
       "    <tr style=\"text-align: right;\">\n",
       "      <th></th>\n",
       "      <th>price</th>\n",
       "      <th>distance</th>\n",
       "      <th>cab_type</th>\n",
       "      <th>destination</th>\n",
       "      <th>source</th>\n",
       "      <th>surge_multiplier</th>\n",
       "      <th>product_id</th>\n",
       "      <th>name</th>\n",
       "      <th>temp</th>\n",
       "      <th>clouds</th>\n",
       "      <th>rain</th>\n",
       "      <th>humidity</th>\n",
       "      <th>wind</th>\n",
       "      <th>day</th>\n",
       "      <th>hour</th>\n",
       "      <th>cab_type_le</th>\n",
       "      <th>destination_le</th>\n",
       "      <th>source_le</th>\n",
       "      <th>product_id_le</th>\n",
       "      <th>name_le</th>\n",
       "    </tr>\n",
       "  </thead>\n",
       "  <tbody>\n",
       "    <tr>\n",
       "      <td>0</td>\n",
       "      <td>5.0</td>\n",
       "      <td>0.44</td>\n",
       "      <td>Lyft</td>\n",
       "      <td>North Station</td>\n",
       "      <td>Haymarket Square</td>\n",
       "      <td>1.0</td>\n",
       "      <td>lyft_line</td>\n",
       "      <td>Shared</td>\n",
       "      <td>38.46</td>\n",
       "      <td>0.29</td>\n",
       "      <td>0.0000</td>\n",
       "      <td>0.76</td>\n",
       "      <td>7.68</td>\n",
       "      <td>6</td>\n",
       "      <td>9</td>\n",
       "      <td>0</td>\n",
       "      <td>7</td>\n",
       "      <td>5</td>\n",
       "      <td>7</td>\n",
       "      <td>7</td>\n",
       "    </tr>\n",
       "    <tr>\n",
       "      <td>1</td>\n",
       "      <td>11.0</td>\n",
       "      <td>0.44</td>\n",
       "      <td>Lyft</td>\n",
       "      <td>North Station</td>\n",
       "      <td>Haymarket Square</td>\n",
       "      <td>1.0</td>\n",
       "      <td>lyft_premier</td>\n",
       "      <td>Lux</td>\n",
       "      <td>44.31</td>\n",
       "      <td>1.00</td>\n",
       "      <td>0.1123</td>\n",
       "      <td>0.90</td>\n",
       "      <td>13.69</td>\n",
       "      <td>1</td>\n",
       "      <td>2</td>\n",
       "      <td>0</td>\n",
       "      <td>7</td>\n",
       "      <td>5</td>\n",
       "      <td>11</td>\n",
       "      <td>2</td>\n",
       "    </tr>\n",
       "    <tr>\n",
       "      <td>2</td>\n",
       "      <td>11.0</td>\n",
       "      <td>0.44</td>\n",
       "      <td>Lyft</td>\n",
       "      <td>North Station</td>\n",
       "      <td>Haymarket Square</td>\n",
       "      <td>1.0</td>\n",
       "      <td>lyft_premier</td>\n",
       "      <td>Lux</td>\n",
       "      <td>43.82</td>\n",
       "      <td>0.99</td>\n",
       "      <td>0.0997</td>\n",
       "      <td>0.89</td>\n",
       "      <td>11.57</td>\n",
       "      <td>1</td>\n",
       "      <td>2</td>\n",
       "      <td>0</td>\n",
       "      <td>7</td>\n",
       "      <td>5</td>\n",
       "      <td>11</td>\n",
       "      <td>2</td>\n",
       "    </tr>\n",
       "  </tbody>\n",
       "</table>\n",
       "</div>"
      ],
      "text/plain": [
       "   price  distance cab_type    destination            source  \\\n",
       "0    5.0      0.44     Lyft  North Station  Haymarket Square   \n",
       "1   11.0      0.44     Lyft  North Station  Haymarket Square   \n",
       "2   11.0      0.44     Lyft  North Station  Haymarket Square   \n",
       "\n",
       "   surge_multiplier    product_id    name   temp  clouds    rain  humidity  \\\n",
       "0               1.0     lyft_line  Shared  38.46    0.29  0.0000      0.76   \n",
       "1               1.0  lyft_premier     Lux  44.31    1.00  0.1123      0.90   \n",
       "2               1.0  lyft_premier     Lux  43.82    0.99  0.0997      0.89   \n",
       "\n",
       "    wind  day  hour  cab_type_le  destination_le  source_le  product_id_le  \\\n",
       "0   7.68    6     9            0               7          5              7   \n",
       "1  13.69    1     2            0               7          5             11   \n",
       "2  11.57    1     2            0               7          5             11   \n",
       "\n",
       "   name_le  \n",
       "0        7  \n",
       "1        2  \n",
       "2        2  "
      ]
     },
     "execution_count": 3,
     "metadata": {},
     "output_type": "execute_result"
    }
   ],
   "source": [
    "from sklearn import preprocessing\n",
    "le = preprocessing.LabelEncoder()\n",
    "\n",
    "le.fit(car_rides['cab_type'])\n",
    "car_rides['cab_type_le'] = le.transform(car_rides['cab_type']) \n",
    "le.fit(car_rides['destination'])\n",
    "car_rides['destination_le'] = le.transform(car_rides['destination']) \n",
    "le.fit(car_rides['source'])\n",
    "car_rides['source_le'] = le.transform(car_rides['source']) \n",
    "le.fit(car_rides['product_id'])\n",
    "car_rides['product_id_le'] = le.transform(car_rides['product_id']) \n",
    "le.fit(car_rides['name'])\n",
    "car_rides['name_le'] = le.transform(car_rides['name']) \n",
    "car_rides.head(3)"
   ]
  },
  {
   "cell_type": "markdown",
   "metadata": {},
   "source": [
    "### Dropping highly correlated features"
   ]
  },
  {
   "cell_type": "code",
   "execution_count": 4,
   "metadata": {
    "scrolled": true
   },
   "outputs": [
    {
     "data": {
      "text/plain": [
       "<matplotlib.axes._subplots.AxesSubplot at 0x16d1b867648>"
      ]
     },
     "execution_count": 4,
     "metadata": {},
     "output_type": "execute_result"
    },
    {
     "data": {
      "image/png": "[encoded data removed]",
      "text/plain": [
       "<Figure size 792x648 with 2 Axes>"
      ]
     },
     "metadata": {
      "needs_background": "light"
     },
     "output_type": "display_data"
    }
   ],
   "source": [
    "all_xy = car_rides.drop(['product_id', 'cab_type', 'destination', 'source', 'name'], axis = 1)\n",
    "corr_matrix = all_xy.corr().abs()\n",
    "\n",
    "# Generate a mask for the upper triangle\n",
    "mask = np.zeros_like(corr_matrix, dtype=np.bool)\n",
    "mask[np.triu_indices_from(mask)] = True\n",
    "\n",
    "# Select the upper part of the triangle\n",
    "upper = corr_matrix.where(np.triu(np.ones(corr_matrix.shape), k=1).astype(np.bool))\n",
    "\n",
    "# Set up the matplotlib figure\n",
    "f, ax = plt.subplots(figsize=(11, 9))\n",
    "\n",
    "# Generate a custom diverging colormap\n",
    "cmap = sns.diverging_palette(220, 10, as_cmap=True)\n",
    "\n",
    "# Draw the heatmap with the mask and correct aspect ratio\n",
    "sns.heatmap(corr_matrix, mask=mask, cmap=cmap, vmax=1, center=0,\n",
    "            square=True, linewidths=.5, cbar_kws={\"shrink\": .5})"
   ]
  },
  {
   "cell_type": "code",
   "execution_count": 5,
   "metadata": {
    "scrolled": true
   },
   "outputs": [
    {
     "data": {
      "text/html": [
       "<div>\n",
       "<style scoped>\n",
       "    .dataframe tbody tr th:only-of-type {\n",
       "        vertical-align: middle;\n",
       "    }\n",
       "\n",
       "    .dataframe tbody tr th {\n",
       "        vertical-align: top;\n",
       "    }\n",
       "\n",
       "    .dataframe thead th {\n",
       "        text-align: right;\n",
       "    }\n",
       "</style>\n",
       "<table border=\"1\" class=\"dataframe\">\n",
       "  <thead>\n",
       "    <tr style=\"text-align: right;\">\n",
       "      <th></th>\n",
       "      <th>price</th>\n",
       "      <th>distance</th>\n",
       "      <th>surge_multiplier</th>\n",
       "      <th>temp</th>\n",
       "      <th>clouds</th>\n",
       "      <th>rain</th>\n",
       "      <th>humidity</th>\n",
       "      <th>wind</th>\n",
       "      <th>day</th>\n",
       "      <th>hour</th>\n",
       "      <th>cab_type_le</th>\n",
       "      <th>destination_le</th>\n",
       "      <th>source_le</th>\n",
       "      <th>product_id_le</th>\n",
       "      <th>name_le</th>\n",
       "    </tr>\n",
       "  </thead>\n",
       "  <tbody>\n",
       "    <tr>\n",
       "      <td>price</td>\n",
       "      <td>1.000000</td>\n",
       "      <td>0.345648</td>\n",
       "      <td>0.240652</td>\n",
       "      <td>0.000818</td>\n",
       "      <td>0.001943</td>\n",
       "      <td>0.001108</td>\n",
       "      <td>0.001899</td>\n",
       "      <td>0.000390</td>\n",
       "      <td>0.001339</td>\n",
       "      <td>0.000494</td>\n",
       "      <td>0.081561</td>\n",
       "      <td>0.047247</td>\n",
       "      <td>0.027483</td>\n",
       "      <td>0.101144</td>\n",
       "      <td>0.586203</td>\n",
       "    </tr>\n",
       "    <tr>\n",
       "      <td>distance</td>\n",
       "      <td>0.345648</td>\n",
       "      <td>1.000000</td>\n",
       "      <td>0.025487</td>\n",
       "      <td>0.002300</td>\n",
       "      <td>0.000693</td>\n",
       "      <td>0.002469</td>\n",
       "      <td>0.003333</td>\n",
       "      <td>0.002056</td>\n",
       "      <td>0.003097</td>\n",
       "      <td>0.001346</td>\n",
       "      <td>0.002385</td>\n",
       "      <td>0.152135</td>\n",
       "      <td>0.090905</td>\n",
       "      <td>0.001464</td>\n",
       "      <td>0.001474</td>\n",
       "    </tr>\n",
       "    <tr>\n",
       "      <td>surge_multiplier</td>\n",
       "      <td>0.240652</td>\n",
       "      <td>0.025487</td>\n",
       "      <td>1.000000</td>\n",
       "      <td>0.001773</td>\n",
       "      <td>0.000564</td>\n",
       "      <td>0.005030</td>\n",
       "      <td>0.003105</td>\n",
       "      <td>0.000609</td>\n",
       "      <td>0.000329</td>\n",
       "      <td>0.000676</td>\n",
       "      <td>0.164448</td>\n",
       "      <td>0.001236</td>\n",
       "      <td>0.034417</td>\n",
       "      <td>0.156181</td>\n",
       "      <td>0.068790</td>\n",
       "    </tr>\n",
       "    <tr>\n",
       "      <td>temp</td>\n",
       "      <td>0.000818</td>\n",
       "      <td>0.002300</td>\n",
       "      <td>0.001773</td>\n",
       "      <td>1.000000</td>\n",
       "      <td>0.520569</td>\n",
       "      <td>0.185374</td>\n",
       "      <td>0.356719</td>\n",
       "      <td>0.156654</td>\n",
       "      <td>0.173013</td>\n",
       "      <td>0.191957</td>\n",
       "      <td>0.002100</td>\n",
       "      <td>0.001917</td>\n",
       "      <td>0.000295</td>\n",
       "      <td>0.002318</td>\n",
       "      <td>0.001950</td>\n",
       "    </tr>\n",
       "    <tr>\n",
       "      <td>clouds</td>\n",
       "      <td>0.001943</td>\n",
       "      <td>0.000693</td>\n",
       "      <td>0.000564</td>\n",
       "      <td>0.520569</td>\n",
       "      <td>1.000000</td>\n",
       "      <td>0.221853</td>\n",
       "      <td>0.441236</td>\n",
       "      <td>0.116650</td>\n",
       "      <td>0.244061</td>\n",
       "      <td>0.093700</td>\n",
       "      <td>0.000303</td>\n",
       "      <td>0.002915</td>\n",
       "      <td>0.000623</td>\n",
       "      <td>0.000016</td>\n",
       "      <td>0.001851</td>\n",
       "    </tr>\n",
       "    <tr>\n",
       "      <td>rain</td>\n",
       "      <td>0.001108</td>\n",
       "      <td>0.002469</td>\n",
       "      <td>0.005030</td>\n",
       "      <td>0.185374</td>\n",
       "      <td>0.221853</td>\n",
       "      <td>1.000000</td>\n",
       "      <td>0.256481</td>\n",
       "      <td>0.224417</td>\n",
       "      <td>0.144822</td>\n",
       "      <td>0.208121</td>\n",
       "      <td>0.003663</td>\n",
       "      <td>0.001674</td>\n",
       "      <td>0.001422</td>\n",
       "      <td>0.002865</td>\n",
       "      <td>0.000492</td>\n",
       "    </tr>\n",
       "    <tr>\n",
       "      <td>humidity</td>\n",
       "      <td>0.001899</td>\n",
       "      <td>0.003333</td>\n",
       "      <td>0.003105</td>\n",
       "      <td>0.356719</td>\n",
       "      <td>0.441236</td>\n",
       "      <td>0.256481</td>\n",
       "      <td>1.000000</td>\n",
       "      <td>0.242427</td>\n",
       "      <td>0.227731</td>\n",
       "      <td>0.246443</td>\n",
       "      <td>0.001468</td>\n",
       "      <td>0.001894</td>\n",
       "      <td>0.006564</td>\n",
       "      <td>0.001316</td>\n",
       "      <td>0.000271</td>\n",
       "    </tr>\n",
       "    <tr>\n",
       "      <td>wind</td>\n",
       "      <td>0.000390</td>\n",
       "      <td>0.002056</td>\n",
       "      <td>0.000609</td>\n",
       "      <td>0.156654</td>\n",
       "      <td>0.116650</td>\n",
       "      <td>0.224417</td>\n",
       "      <td>0.242427</td>\n",
       "      <td>1.000000</td>\n",
       "      <td>0.241942</td>\n",
       "      <td>0.043662</td>\n",
       "      <td>0.003937</td>\n",
       "      <td>0.005399</td>\n",
       "      <td>0.000882</td>\n",
       "      <td>0.003333</td>\n",
       "      <td>0.000068</td>\n",
       "    </tr>\n",
       "    <tr>\n",
       "      <td>day</td>\n",
       "      <td>0.001339</td>\n",
       "      <td>0.003097</td>\n",
       "      <td>0.000329</td>\n",
       "      <td>0.173013</td>\n",
       "      <td>0.244061</td>\n",
       "      <td>0.144822</td>\n",
       "      <td>0.227731</td>\n",
       "      <td>0.241942</td>\n",
       "      <td>1.000000</td>\n",
       "      <td>0.047526</td>\n",
       "      <td>0.000671</td>\n",
       "      <td>0.002498</td>\n",
       "      <td>0.004709</td>\n",
       "      <td>0.000320</td>\n",
       "      <td>0.000648</td>\n",
       "    </tr>\n",
       "    <tr>\n",
       "      <td>hour</td>\n",
       "      <td>0.000494</td>\n",
       "      <td>0.001346</td>\n",
       "      <td>0.000676</td>\n",
       "      <td>0.191957</td>\n",
       "      <td>0.093700</td>\n",
       "      <td>0.208121</td>\n",
       "      <td>0.246443</td>\n",
       "      <td>0.043662</td>\n",
       "      <td>0.047526</td>\n",
       "      <td>1.000000</td>\n",
       "      <td>0.001627</td>\n",
       "      <td>0.001540</td>\n",
       "      <td>0.003832</td>\n",
       "      <td>0.001988</td>\n",
       "      <td>0.000278</td>\n",
       "    </tr>\n",
       "    <tr>\n",
       "      <td>cab_type_le</td>\n",
       "      <td>0.081561</td>\n",
       "      <td>0.002385</td>\n",
       "      <td>0.164448</td>\n",
       "      <td>0.002100</td>\n",
       "      <td>0.000303</td>\n",
       "      <td>0.003663</td>\n",
       "      <td>0.001468</td>\n",
       "      <td>0.003937</td>\n",
       "      <td>0.000671</td>\n",
       "      <td>0.001627</td>\n",
       "      <td>1.000000</td>\n",
       "      <td>0.001958</td>\n",
       "      <td>0.000246</td>\n",
       "      <td>0.868796</td>\n",
       "      <td>0.284533</td>\n",
       "    </tr>\n",
       "    <tr>\n",
       "      <td>destination_le</td>\n",
       "      <td>0.047247</td>\n",
       "      <td>0.152135</td>\n",
       "      <td>0.001236</td>\n",
       "      <td>0.001917</td>\n",
       "      <td>0.002915</td>\n",
       "      <td>0.001674</td>\n",
       "      <td>0.001894</td>\n",
       "      <td>0.005399</td>\n",
       "      <td>0.002498</td>\n",
       "      <td>0.001540</td>\n",
       "      <td>0.001958</td>\n",
       "      <td>1.000000</td>\n",
       "      <td>0.007258</td>\n",
       "      <td>0.001163</td>\n",
       "      <td>0.001401</td>\n",
       "    </tr>\n",
       "    <tr>\n",
       "      <td>source_le</td>\n",
       "      <td>0.027483</td>\n",
       "      <td>0.090905</td>\n",
       "      <td>0.034417</td>\n",
       "      <td>0.000295</td>\n",
       "      <td>0.000623</td>\n",
       "      <td>0.001422</td>\n",
       "      <td>0.006564</td>\n",
       "      <td>0.000882</td>\n",
       "      <td>0.004709</td>\n",
       "      <td>0.003832</td>\n",
       "      <td>0.000246</td>\n",
       "      <td>0.007258</td>\n",
       "      <td>1.000000</td>\n",
       "      <td>0.000179</td>\n",
       "      <td>0.000203</td>\n",
       "    </tr>\n",
       "    <tr>\n",
       "      <td>product_id_le</td>\n",
       "      <td>0.101144</td>\n",
       "      <td>0.001464</td>\n",
       "      <td>0.156181</td>\n",
       "      <td>0.002318</td>\n",
       "      <td>0.000016</td>\n",
       "      <td>0.002865</td>\n",
       "      <td>0.001316</td>\n",
       "      <td>0.003333</td>\n",
       "      <td>0.000320</td>\n",
       "      <td>0.001988</td>\n",
       "      <td>0.868796</td>\n",
       "      <td>0.001163</td>\n",
       "      <td>0.000179</td>\n",
       "      <td>1.000000</td>\n",
       "      <td>0.149308</td>\n",
       "    </tr>\n",
       "    <tr>\n",
       "      <td>name_le</td>\n",
       "      <td>0.586203</td>\n",
       "      <td>0.001474</td>\n",
       "      <td>0.068790</td>\n",
       "      <td>0.001950</td>\n",
       "      <td>0.001851</td>\n",
       "      <td>0.000492</td>\n",
       "      <td>0.000271</td>\n",
       "      <td>0.000068</td>\n",
       "      <td>0.000648</td>\n",
       "      <td>0.000278</td>\n",
       "      <td>0.284533</td>\n",
       "      <td>0.001401</td>\n",
       "      <td>0.000203</td>\n",
       "      <td>0.149308</td>\n",
       "      <td>1.000000</td>\n",
       "    </tr>\n",
       "  </tbody>\n",
       "</table>\n",
       "</div>"
      ],
      "text/plain": [
       "                     price  distance  surge_multiplier      temp    clouds  \\\n",
       "price             1.000000  0.345648          0.240652  0.000818  0.001943   \n",
       "distance          0.345648  1.000000          0.025487  0.002300  0.000693   \n",
       "surge_multiplier  0.240652  0.025487          1.000000  0.001773  0.000564   \n",
       "temp              0.000818  0.002300          0.001773  1.000000  0.520569   \n",
       "clouds            0.001943  0.000693          0.000564  0.520569  1.000000   \n",
       "rain              0.001108  0.002469          0.005030  0.185374  0.221853   \n",
       "humidity          0.001899  0.003333          0.003105  0.356719  0.441236   \n",
       "wind              0.000390  0.002056          0.000609  0.156654  0.116650   \n",
       "day               0.001339  0.003097          0.000329  0.173013  0.244061   \n",
       "hour              0.000494  0.001346          0.000676  0.191957  0.093700   \n",
       "cab_type_le       0.081561  0.002385          0.164448  0.002100  0.000303   \n",
       "destination_le    0.047247  0.152135          0.001236  0.001917  0.002915   \n",
       "source_le         0.027483  0.090905          0.034417  0.000295  0.000623   \n",
       "product_id_le     0.101144  0.001464          0.156181  0.002318  0.000016   \n",
       "name_le           0.586203  0.001474          0.068790  0.001950  0.001851   \n",
       "\n",
       "                      rain  humidity      wind       day      hour  \\\n",
       "price             0.001108  0.001899  0.000390  0.001339  0.000494   \n",
       "distance          0.002469  0.003333  0.002056  0.003097  0.001346   \n",
       "surge_multiplier  0.005030  0.003105  0.000609  0.000329  0.000676   \n",
       "temp              0.185374  0.356719  0.156654  0.173013  0.191957   \n",
       "clouds            0.221853  0.441236  0.116650  0.244061  0.093700   \n",
       "rain              1.000000  0.256481  0.224417  0.144822  0.208121   \n",
       "humidity          0.256481  1.000000  0.242427  0.227731  0.246443   \n",
       "wind              0.224417  0.242427  1.000000  0.241942  0.043662   \n",
       "day               0.144822  0.227731  0.241942  1.000000  0.047526   \n",
       "hour              0.208121  0.246443  0.043662  0.047526  1.000000   \n",
       "cab_type_le       0.003663  0.001468  0.003937  0.000671  0.001627   \n",
       "destination_le    0.001674  0.001894  0.005399  0.002498  0.001540   \n",
       "source_le         0.001422  0.006564  0.000882  0.004709  0.003832   \n",
       "product_id_le     0.002865  0.001316  0.003333  0.000320  0.001988   \n",
       "name_le           0.000492  0.000271  0.000068  0.000648  0.000278   \n",
       "\n",
       "                  cab_type_le  destination_le  source_le  product_id_le  \\\n",
       "price                0.081561        0.047247   0.027483       0.101144   \n",
       "distance             0.002385        0.152135   0.090905       0.001464   \n",
       "surge_multiplier     0.164448        0.001236   0.034417       0.156181   \n",
       "temp                 0.002100        0.001917   0.000295       0.002318   \n",
       "clouds               0.000303        0.002915   0.000623       0.000016   \n",
       "rain                 0.003663        0.001674   0.001422       0.002865   \n",
       "humidity             0.001468        0.001894   0.006564       0.001316   \n",
       "wind                 0.003937        0.005399   0.000882       0.003333   \n",
       "day                  0.000671        0.002498   0.004709       0.000320   \n",
       "hour                 0.001627        0.001540   0.003832       0.001988   \n",
       "cab_type_le          1.000000        0.001958   0.000246       0.868796   \n",
       "destination_le       0.001958        1.000000   0.007258       0.001163   \n",
       "source_le            0.000246        0.007258   1.000000       0.000179   \n",
       "product_id_le        0.868796        0.001163   0.000179       1.000000   \n",
       "name_le              0.284533        0.001401   0.000203       0.149308   \n",
       "\n",
       "                   name_le  \n",
       "price             0.586203  \n",
       "distance          0.001474  \n",
       "surge_multiplier  0.068790  \n",
       "temp              0.001950  \n",
       "clouds            0.001851  \n",
       "rain              0.000492  \n",
       "humidity          0.000271  \n",
       "wind              0.000068  \n",
       "day               0.000648  \n",
       "hour              0.000278  \n",
       "cab_type_le       0.284533  \n",
       "destination_le    0.001401  \n",
       "source_le         0.000203  \n",
       "product_id_le     0.149308  \n",
       "name_le           1.000000  "
      ]
     },
     "execution_count": 5,
     "metadata": {},
     "output_type": "execute_result"
    }
   ],
   "source": [
    "corr_matrix"
   ]
  },
  {
   "cell_type": "code",
   "execution_count": 6,
   "metadata": {},
   "outputs": [
    {
     "data": {
      "image/png": "[encoded data removed]",
      "text/plain": [
       "<Figure size 432x288 with 1 Axes>"
      ]
     },
     "metadata": {
      "needs_background": "light"
     },
     "output_type": "display_data"
    }
   ],
   "source": [
    "ax = sns.boxplot(x=\"cab_type\", y=\"price\", data=car_rides)"
   ]
  },
  {
   "cell_type": "code",
   "execution_count": 7,
   "metadata": {},
   "outputs": [],
   "source": [
    "x_vars = car_rides.drop(['cab_type_le', 'product_id_le',\n",
    "                         'product_id', 'cab_type', 'destination', 'source', 'price', 'name'], axis = 1)\n",
    "x_vars = x_vars.apply(pd.to_numeric)\n",
    "x_vars.head(3)\n",
    "\n",
    "target = car_rides[['price']]\n",
    "target = target.apply(pd.to_numeric) "
   ]
  },
  {
   "cell_type": "code",
   "execution_count": 8,
   "metadata": {},
   "outputs": [
    {
     "name": "stderr",
     "output_type": "stream",
     "text": [
      "C:\\Users\\roger\\AppData\\Local\\Continuum\\anaconda3\\lib\\site-packages\\ipykernel_launcher.py:17: DataConversionWarning: A column-vector y was passed when a 1d array was expected. Please change the shape of y to (n_samples,), for example using ravel().\n"
     ]
    }
   ],
   "source": [
    "#Build Random Forest model\n",
    "rf_clf = RandomForestRegressor(n_estimators = 10,\n",
    "                               criterion = 'mse',\n",
    "                               max_depth = None,\n",
    "                               min_samples_split = 2,\n",
    "                               min_samples_leaf = 1,\n",
    "                               max_features = 'auto', \n",
    "                               random_state = 0\n",
    "                              )\n",
    "# Split dataset into training and testing datasets\n",
    "from sklearn.model_selection import train_test_split\n",
    "x_train, x_test, y_train, y_test = train_test_split(x_vars, \n",
    "                                                    target, \n",
    "                                                    test_size=0.2, \n",
    "                                                    random_state=1)\n",
    "# Fit the model\n",
    "rf_clf_model = rf_clf.fit(x_train, y_train)"
   ]
  },
  {
   "cell_type": "code",
   "execution_count": 9,
   "metadata": {},
   "outputs": [],
   "source": [
    "rf_train_pre = rf_clf_model.predict(x_train)\n",
    "rf_test_pre = rf_clf_model.predict(x_test)"
   ]
  },
  {
   "cell_type": "code",
   "execution_count": 10,
   "metadata": {},
   "outputs": [
    {
     "data": {
      "text/plain": [
       "0.9890189913708114"
      ]
     },
     "execution_count": 10,
     "metadata": {},
     "output_type": "execute_result"
    }
   ],
   "source": [
    "rf_clf_model.score(x_train, y_train)"
   ]
  },
  {
   "cell_type": "code",
   "execution_count": 11,
   "metadata": {},
   "outputs": [
    {
     "data": {
      "text/plain": [
       "0.9692076447020764"
      ]
     },
     "execution_count": 11,
     "metadata": {},
     "output_type": "execute_result"
    }
   ],
   "source": [
    "rf_clf_model.score(x_test, y_test)"
   ]
  },
  {
   "cell_type": "markdown",
   "metadata": {},
   "source": [
    "### Feature Importance"
   ]
  },
  {
   "cell_type": "code",
   "execution_count": 12,
   "metadata": {},
   "outputs": [
    {
     "data": {
      "text/plain": [
       "Text(0.5, 0, 'Relative Importance: Gini')"
      ]
     },
     "execution_count": 12,
     "metadata": {},
     "output_type": "execute_result"
    },
    {
     "data": {
      "image/png": "[encoded data removed]",
      "text/plain": [
       "<Figure size 360x360 with 1 Axes>"
      ]
     },
     "metadata": {
      "needs_background": "light"
     },
     "output_type": "display_data"
    }
   ],
   "source": [
    "rf_clf_feat_names = x_train.columns\n",
    "\n",
    "rf_clf_importances = rf_clf.feature_importances_\n",
    "\n",
    "from matplotlib.pyplot import figure\n",
    "figure(num=None, figsize = (5,5))\n",
    "\n",
    "indices = np.argsort(rf_clf_importances)\n",
    "\n",
    "plt.figure(1)\n",
    "plt.title('RF Regressor Feature Importance')\n",
    "plt.barh(range(len(indices)), rf_clf_importances[indices], color = 'b', align = 'center')\n",
    "plt.yticks(range(len(indices)), rf_clf_feat_names[indices])\n",
    "plt.xlabel('Relative Importance: Gini')"
   ]
  },
  {
   "cell_type": "markdown",
   "metadata": {},
   "source": [
    "## Lyft"
   ]
  },
  {
   "cell_type": "markdown",
   "metadata": {},
   "source": [
    "### Random Forest"
   ]
  },
  {
   "cell_type": "code",
   "execution_count": 13,
   "metadata": {
    "scrolled": true
   },
   "outputs": [
    {
     "data": {
      "text/plain": [
       "Lyft            93886\n",
       "Shared          93762\n",
       "Lux             93562\n",
       "Lux Black       93533\n",
       "Lyft XL         93387\n",
       "Lux Black XL    92988\n",
       "Name: name, dtype: int64"
      ]
     },
     "execution_count": 13,
     "metadata": {},
     "output_type": "execute_result"
    }
   ],
   "source": [
    "Lyft = car_rides[car_rides['cab_type'].isin(['Lyft'])]\n",
    "Lyft['name'].value_counts()"
   ]
  },
  {
   "cell_type": "code",
   "execution_count": 14,
   "metadata": {
    "scrolled": true
   },
   "outputs": [
    {
     "data": {
      "image/png": "[encoded data removed]",
      "text/plain": [
       "<Figure size 432x288 with 1 Axes>"
      ]
     },
     "metadata": {
      "needs_background": "light"
     },
     "output_type": "display_data"
    }
   ],
   "source": [
    "ax = sns.boxplot(x=\"name\", y=\"price\", data=Lyft)"
   ]
  },
  {
   "cell_type": "code",
   "execution_count": 15,
   "metadata": {},
   "outputs": [],
   "source": [
    "sample_df = np.random.permutation(len(Lyft))\n",
    "Lyft_sample = Lyft.take(sample_df[:1000])"
   ]
  },
  {
   "cell_type": "code",
   "execution_count": 16,
   "metadata": {},
   "outputs": [
    {
     "data": {
      "text/plain": [
       "Text(0.5, 1, 'Distance vs. Price in Lyft')"
      ]
     },
     "execution_count": 16,
     "metadata": {},
     "output_type": "execute_result"
    },
    {
     "data": {
      "image/png": "[encoded data removed]",
      "text/plain": [
       "<Figure size 459.5x360 with 1 Axes>"
      ]
     },
     "metadata": {
      "needs_background": "light"
     },
     "output_type": "display_data"
    }
   ],
   "source": [
    "sns.lmplot('distance', 'price', data=Lyft_sample, hue=\"name\")\n",
    "plt.title('Distance vs. Price in Lyft')"
   ]
  },
  {
   "cell_type": "code",
   "execution_count": 17,
   "metadata": {},
   "outputs": [],
   "source": [
    "x_vars = Lyft.drop(['cab_type_le', 'product_id', 'product_id_le',\n",
    "                    'cab_type', 'destination', 'source', 'price', 'name'], axis = 1)\n",
    "x_vars = x_vars.apply(pd.to_numeric)\n",
    "x_vars.head(3)\n",
    "\n",
    "target = Lyft[['price']]\n",
    "target = target.apply(pd.to_numeric) "
   ]
  },
  {
   "cell_type": "code",
   "execution_count": 18,
   "metadata": {},
   "outputs": [],
   "source": [
    "rf_clf = RandomForestRegressor(n_estimators = 10,\n",
    "                               criterion = 'mse',\n",
    "                               max_depth = None,\n",
    "                               min_samples_split = 2,\n",
    "                               min_samples_leaf = 1,\n",
    "                               max_features = 'auto', #sqrt,log2\n",
    "                               random_state = 0\n",
    "                              )\n",
    "\n",
    "from sklearn.model_selection import train_test_split\n",
    "x_train, x_test, y_train, y_test = train_test_split(x_vars, \n",
    "                                                    target, \n",
    "                                                    test_size=0.2, \n",
    "                                                    random_state=1)"
   ]
  },
  {
   "cell_type": "code",
   "execution_count": 19,
   "metadata": {
    "scrolled": true
   },
   "outputs": [
    {
     "name": "stderr",
     "output_type": "stream",
     "text": [
      "C:\\Users\\roger\\AppData\\Local\\Continuum\\anaconda3\\lib\\site-packages\\ipykernel_launcher.py:1: DataConversionWarning: A column-vector y was passed when a 1d array was expected. Please change the shape of y to (n_samples,), for example using ravel().\n",
      "  \"\"\"Entry point for launching an IPython kernel.\n"
     ]
    }
   ],
   "source": [
    "rf_clf_model = rf_clf.fit(x_train, y_train)"
   ]
  },
  {
   "cell_type": "code",
   "execution_count": 20,
   "metadata": {},
   "outputs": [],
   "source": [
    "rf_train_pre = rf_clf_model.predict(x_train)\n",
    "rf_test_pre = rf_clf_model.predict(x_test)"
   ]
  },
  {
   "cell_type": "code",
   "execution_count": 21,
   "metadata": {},
   "outputs": [
    {
     "data": {
      "text/plain": [
       "0.9967837542254933"
      ]
     },
     "execution_count": 21,
     "metadata": {},
     "output_type": "execute_result"
    }
   ],
   "source": [
    "rf_clf_model.score(x_train, y_train)"
   ]
  },
  {
   "cell_type": "code",
   "execution_count": 22,
   "metadata": {},
   "outputs": [
    {
     "data": {
      "text/plain": [
       "0.9854976243897676"
      ]
     },
     "execution_count": 22,
     "metadata": {},
     "output_type": "execute_result"
    }
   ],
   "source": [
    "rf_clf_model.score(x_test, y_test)"
   ]
  },
  {
   "cell_type": "markdown",
   "metadata": {},
   "source": [
    "### Feature Importance"
   ]
  },
  {
   "cell_type": "code",
   "execution_count": 23,
   "metadata": {},
   "outputs": [
    {
     "data": {
      "text/plain": [
       "Text(0.5, 0, 'Relative Importance: Gini')"
      ]
     },
     "execution_count": 23,
     "metadata": {},
     "output_type": "execute_result"
    },
    {
     "data": {
      "image/png": "[encoded data removed]",
      "text/plain": [
       "<Figure size 360x360 with 1 Axes>"
      ]
     },
     "metadata": {
      "needs_background": "light"
     },
     "output_type": "display_data"
    }
   ],
   "source": [
    "rf_clf_feat_names = x_train.columns\n",
    "\n",
    "rf_clf_importances = rf_clf.feature_importances_\n",
    "\n",
    "from matplotlib.pyplot import figure\n",
    "figure(num=None, figsize = (5,5))\n",
    "\n",
    "indices = np.argsort(rf_clf_importances)\n",
    "\n",
    "plt.figure(1)\n",
    "plt.title('RF Regressor Feature Importance - Lyft')\n",
    "plt.barh(range(len(indices)), rf_clf_importances[indices], color = 'b', align = 'center')\n",
    "plt.yticks(range(len(indices)), rf_clf_feat_names[indices])\n",
    "plt.xlabel('Relative Importance: Gini')"
   ]
  },
  {
   "cell_type": "markdown",
   "metadata": {},
   "source": [
    "## Uber"
   ]
  },
  {
   "cell_type": "markdown",
   "metadata": {},
   "source": [
    "### Random Forest"
   ]
  },
  {
   "cell_type": "code",
   "execution_count": 24,
   "metadata": {},
   "outputs": [],
   "source": [
    "Uber = car_rides[car_rides['cab_type'].isin(['Uber'])]"
   ]
  },
  {
   "cell_type": "code",
   "execution_count": 25,
   "metadata": {
    "scrolled": true
   },
   "outputs": [
    {
     "data": {
      "text/plain": [
       "Black        101102\n",
       "UberXL       100859\n",
       "Black SUV    100795\n",
       "WAV          100615\n",
       "UberPool     100402\n",
       "UberX        100105\n",
       "Name: name, dtype: int64"
      ]
     },
     "execution_count": 25,
     "metadata": {},
     "output_type": "execute_result"
    }
   ],
   "source": [
    "Uber['name'].value_counts()"
   ]
  },
  {
   "cell_type": "code",
   "execution_count": 26,
   "metadata": {},
   "outputs": [
    {
     "data": {
      "image/png": "[encoded data removed]",
      "text/plain": [
       "<Figure size 432x288 with 1 Axes>"
      ]
     },
     "metadata": {
      "needs_background": "light"
     },
     "output_type": "display_data"
    }
   ],
   "source": [
    "ax = sns.boxplot(x=\"name\", y=\"price\", data=Uber)"
   ]
  },
  {
   "cell_type": "code",
   "execution_count": 27,
   "metadata": {},
   "outputs": [],
   "source": [
    "sample_df = np.random.permutation(len(Uber))\n",
    "Uber_sample = Uber.take(sample_df[:1000])"
   ]
  },
  {
   "cell_type": "code",
   "execution_count": 28,
   "metadata": {},
   "outputs": [
    {
     "data": {
      "text/plain": [
       "Text(0.5, 1, 'Distance vs. Price in Uber')"
      ]
     },
     "execution_count": 28,
     "metadata": {},
     "output_type": "execute_result"
    },
    {
     "data": {
      "image/png": "[encoded data removed]",
      "text/plain": [
       "<Figure size 446.75x360 with 1 Axes>"
      ]
     },
     "metadata": {
      "needs_background": "light"
     },
     "output_type": "display_data"
    }
   ],
   "source": [
    "sns.lmplot('distance', 'price', data=Uber_sample, hue=\"name\")\n",
    "plt.title('Distance vs. Price in Uber')"
   ]
  },
  {
   "cell_type": "code",
   "execution_count": 29,
   "metadata": {
    "scrolled": true
   },
   "outputs": [],
   "source": [
    "#Uber = car_rides[car_rides['name'].isin(['Black'])]"
   ]
  },
  {
   "cell_type": "code",
   "execution_count": 30,
   "metadata": {},
   "outputs": [],
   "source": [
    "x_vars = Uber.drop(['cab_type_le', 'product_id', 'product_id_le', \n",
    "                    'cab_type', 'destination', 'source', 'price', 'name'], axis = 1)\n",
    "x_vars = x_vars.apply(pd.to_numeric)\n",
    "x_vars.head(3)\n",
    "\n",
    "target = Uber[['price']]\n",
    "target = target.apply(pd.to_numeric) "
   ]
  },
  {
   "cell_type": "code",
   "execution_count": 31,
   "metadata": {},
   "outputs": [],
   "source": [
    "rf_clf = RandomForestRegressor(n_estimators = 10,\n",
    "                               criterion = 'mse',\n",
    "                               max_depth = None,\n",
    "                               min_samples_split = 2,\n",
    "                               min_samples_leaf = 1,\n",
    "                               max_features = 'auto', #sqrt,log2\n",
    "                               random_state = 0\n",
    "                              )\n",
    "\n",
    "from sklearn.model_selection import train_test_split\n",
    "x_train, x_test, y_train, y_test = train_test_split(x_vars, \n",
    "                                                    target, \n",
    "                                                    test_size=0.2, \n",
    "                                                    random_state=1)"
   ]
  },
  {
   "cell_type": "code",
   "execution_count": 32,
   "metadata": {},
   "outputs": [
    {
     "name": "stderr",
     "output_type": "stream",
     "text": [
      "C:\\Users\\roger\\AppData\\Local\\Continuum\\anaconda3\\lib\\site-packages\\ipykernel_launcher.py:1: DataConversionWarning: A column-vector y was passed when a 1d array was expected. Please change the shape of y to (n_samples,), for example using ravel().\n",
      "  \"\"\"Entry point for launching an IPython kernel.\n"
     ]
    }
   ],
   "source": [
    "rf_clf_model = rf_clf.fit(x_train, y_train)"
   ]
  },
  {
   "cell_type": "code",
   "execution_count": 33,
   "metadata": {},
   "outputs": [],
   "source": [
    "rf_train_pre = rf_clf_model.predict(x_train)\n",
    "rf_test_pre = rf_clf_model.predict(x_test)"
   ]
  },
  {
   "cell_type": "code",
   "execution_count": 34,
   "metadata": {},
   "outputs": [
    {
     "data": {
      "text/plain": [
       "0.9791963816572278"
      ]
     },
     "execution_count": 34,
     "metadata": {},
     "output_type": "execute_result"
    }
   ],
   "source": [
    "rf_clf_model.score(x_train, y_train)"
   ]
  },
  {
   "cell_type": "code",
   "execution_count": 35,
   "metadata": {},
   "outputs": [
    {
     "data": {
      "text/plain": [
       "0.946433659584454"
      ]
     },
     "execution_count": 35,
     "metadata": {},
     "output_type": "execute_result"
    }
   ],
   "source": [
    "rf_clf_model.score(x_test, y_test)"
   ]
  },
  {
   "cell_type": "markdown",
   "metadata": {},
   "source": [
    "### Feature Importance"
   ]
  },
  {
   "cell_type": "code",
   "execution_count": 36,
   "metadata": {},
   "outputs": [
    {
     "data": {
      "text/plain": [
       "Text(0.5, 0, 'Relative Importance: Gini')"
      ]
     },
     "execution_count": 36,
     "metadata": {},
     "output_type": "execute_result"
    },
    {
     "data": {
      "image/png": "[encoded data removed]",
      "text/plain": [
       "<Figure size 360x360 with 1 Axes>"
      ]
     },
     "metadata": {
      "needs_background": "light"
     },
     "output_type": "display_data"
    }
   ],
   "source": [
    "rf_clf_feat_names = x_train.columns\n",
    "\n",
    "rf_clf_importances = rf_clf.feature_importances_\n",
    "\n",
    "from matplotlib.pyplot import figure\n",
    "figure(num=None, figsize = (5,5))\n",
    "\n",
    "indices = np.argsort(rf_clf_importances)\n",
    "\n",
    "plt.figure(1)\n",
    "plt.title('RF Regressor Feature Importance - Uber')\n",
    "plt.barh(range(len(indices)), rf_clf_importances[indices], color = 'b', align = 'center')\n",
    "plt.yticks(range(len(indices)), rf_clf_feat_names[indices])\n",
    "plt.xlabel('Relative Importance: Gini')"
   ]
  }
 ],
 "metadata": {
  "kernelspec": {
   "display_name": "Python 3",
   "language": "python",
   "name": "python3"
  },
  "language_info": {
   "codemirror_mode": {
    "name": "ipython",
    "version": 3
   },
   "file_extension": ".py",
   "mimetype": "text/x-python",
   "name": "python",
   "nbconvert_exporter": "python",
   "pygments_lexer": "ipython3",
   "version": "3.8.3"
  },
  "varInspector": {
   "cols": {
    "lenName": 16,
    "lenType": 16,
    "lenVar": 40
   },
   "kernels_config": {
    "python": {
     "delete_cmd_postfix": "",
     "delete_cmd_prefix": "del ",
     "library": "var_list.py",
     "varRefreshCmd": "print(var_dic_list())"
    },
    "r": {
     "delete_cmd_postfix": ") ",
     "delete_cmd_prefix": "rm(",
     "library": "var_list.r",
     "varRefreshCmd": "cat(var_dic_list()) "
    }
   },
   "types_to_exclude": [
    "module",
    "function",
    "builtin_function_or_method",
    "instance",
    "_Feature"
   ],
   "window_display": false
  }
 },
 "nbformat": 4,
 "nbformat_minor": 4
}
